{
 "cells": [
  {
   "cell_type": "code",
   "execution_count": null,
   "metadata": {},
   "outputs": [],
   "source": [
    "CIPHER REVIEW\n",
    "breakdown the parts of your program"
   ]
  },
  {
   "cell_type": "markdown",
   "metadata": {},
   "source": [
    "SOFTWARE PROJECT - YT DOWNLOADER SOFTWARE\n",
    "- premise\n",
    "- requirements\n",
    "- components survey\n",
    "- prototype\n",
    "   - connect components on standards"
   ]
  },
  {
   "cell_type": "markdown",
   "metadata": {},
   "source": [
    "REQUIREMENTS\n",
    "- how to pass a link\n",
    "    -  textbox (user can input a YT link)\n",
    "    - how to make a website\n",
    "- how to actually download a YT vid\n",
    "    - python module:\n",
    "\n",
    "It is ok to use AI in the project. BUT if you are hyperdependent, then you are SCREWED.\n",
    "#BeIndependent\n",
    "1 valid use case: ask perplexity <--- (good stuff) to give an overview\n",
    "\n",
    "WEBSITE CREATION\n",
    "3 TIERS\n",
    "1. Front-end - HTML (structure), CSS (style), Java Script (meh)\n",
    "2. Back-end - Django (server; computer that runs code; it receives the request and does smth; usually the data is HTML) and Flask\n",
    "3. ???\n",
    "\n",
    "Pytybe is fine\n",
    "Prototype is the next step\n",
    "take the components\n"
   ]
  },
  {
   "cell_type": "code",
   "execution_count": 2,
   "metadata": {},
   "outputs": [],
   "source": [
    "import pytube"
   ]
  },
  {
   "cell_type": "code",
   "execution_count": 3,
   "metadata": {},
   "outputs": [],
   "source": [
    "from pytube import YouTube"
   ]
  },
  {
   "cell_type": "code",
   "execution_count": 4,
   "metadata": {},
   "outputs": [
    {
     "data": {
      "text/plain": [
       "'c:\\\\Users\\\\Dell\\\\OneDrive - ateneo.edu (1)\\\\AY24-25 INTERSESH\\\\ITMGT 25.03\\\\Class Exercises\\\\Class Discussions\\\\class-discussions\\\\They can only speak one word at a time  COMPLAINT about GERMANS.mp4'"
      ]
     },
     "execution_count": 4,
     "metadata": {},
     "output_type": "execute_result"
    }
   ],
   "source": [
    "YouTube('https://www.youtube.com/watch?v=fOk_4bT-Af8').streams.first().download()"
   ]
  },
  {
   "cell_type": "code",
   "execution_count": 5,
   "metadata": {},
   "outputs": [],
   "source": [
    "import flask"
   ]
  },
  {
   "cell_type": "code",
   "execution_count": 6,
   "metadata": {},
   "outputs": [],
   "source": [
    "from flask import Flask"
   ]
  },
  {
   "cell_type": "code",
   "execution_count": null,
   "metadata": {},
   "outputs": [],
   "source": [
    "app = Flask(__name__)"
   ]
  }
 ],
 "metadata": {
  "kernelspec": {
   "display_name": "base",
   "language": "python",
   "name": "python3"
  },
  "language_info": {
   "codemirror_mode": {
    "name": "ipython",
    "version": 3
   },
   "file_extension": ".py",
   "mimetype": "text/x-python",
   "name": "python",
   "nbconvert_exporter": "python",
   "pygments_lexer": "ipython3",
   "version": "3.9.12"
  }
 },
 "nbformat": 4,
 "nbformat_minor": 2
}
